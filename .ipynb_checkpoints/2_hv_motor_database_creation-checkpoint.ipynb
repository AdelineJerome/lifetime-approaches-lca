{
 "cells": [
  {
   "cell_type": "markdown",
   "id": "00a0e9ef",
   "metadata": {},
   "source": [
    "# Introduction"
   ]
  },
  {
   "cell_type": "markdown",
   "id": "26386fe4-99af-496c-9b9b-776f396f5318",
   "metadata": {},
   "source": [
    "This notebook is designed to generate the necessary databases for studying the high-voltage (HV) motors as in [Jerome, A., Ljunggren, M. and Janssen, M. (2023) Is repair of energy using products environmentally beneficial? The case of high voltage electric motors](https://doi.org/10.1016/j.resconrec.2023.107038) (*Resources Conservation and Recycling*, 196, 107038)."
   ]
  },
  {
   "cell_type": "markdown",
   "id": "c18a6d3e-553e-4bb3-bdd4-94928ad41f05",
   "metadata": {},
   "source": [
    "**References**\n",
    "\n",
    "Chordia, M., Nordelöf, A., Ellingsen, L.A.W., 2021. Environmental life cycle implications of upscaling lithium-ion battery production. International Journal of Life Cycle Assessment 26, 2024–2039. [DOI link](https://doi.org/10.1007/s11367-021-01976-0)\n",
    "\n",
    "Nordelöf, A., Grunditz, E., Tillman, A.-M., Thiringer, T., Alatalo, M., 2017a. A Scalable Life Cycle Inventory of an Electrical Automotive Traction Machine. Gothenburg, Sweden. [Link](https://research.chalmers.se/en/publication/248692)\n",
    "\n",
    "Nordelöf, A., Grunditz, E., Tillman, A.-M., Thiringer, T., Alatalo, M., 2017b. Scalable PMSM LCI Model v1.01. [Link](http://cpmdatabase.cpm.chalmers.se/Scripts/sheet.asp?ActId=JT-2016-06-21-39)\n",
    "\n",
    "Westberg, E., 2021. Environmental Impact of an Electric Motor and Drive - Life Cycle Assessment and a study of a Circular Business Model. Linköping University. [Link](http://www.diva-portal.org/smash/record.jsf?pid=diva2%3A1658729&dswid=5915)"
   ]
  },
  {
   "cell_type": "markdown",
   "id": "c9812acc",
   "metadata": {},
   "source": [
    "# Library import"
   ]
  },
  {
   "cell_type": "code",
   "execution_count": 1,
   "id": "cf89e3da",
   "metadata": {},
   "outputs": [],
   "source": [
    "#brightway\n",
    "import bw2data as bd\n",
    "import bw2io as bi\n",
    "import bw2calc as bc\n",
    "import bw2analyzer as bwa\n",
    "\n",
    "#others\n",
    "import pandas as pd\n",
    "\n",
    "#own functions\n",
    "from utilities_bw2 import *"
   ]
  },
  {
   "cell_type": "markdown",
   "id": "4fa9a2be",
   "metadata": {},
   "source": [
    "# Project setup and database import"
   ]
  },
  {
   "cell_type": "markdown",
   "id": "d52b5f6d-7c39-44df-85bf-2849af706ccd",
   "metadata": {},
   "source": [
    "## Project setup"
   ]
  },
  {
   "cell_type": "code",
   "execution_count": 2,
   "id": "fd0f82b1-d390-4675-8076-48b19d098f9b",
   "metadata": {},
   "outputs": [
    {
     "data": {
      "text/plain": [
       "Brightway2 projects manager with 16 objects:\n",
       "\tABB case\n",
       "\tElectric motors\n",
       "\tMotor case\n",
       "\tNew motor case\n",
       "\tWT01\n",
       "\tab_demo\n",
       "\tab_demo_solution\n",
       "\tadvlca24\n",
       "\tbrightway2_test\n",
       "\tbrightway_demo\n",
       "\tdefault\n",
       "\tlca_algebraic_handbook\n",
       "\tlifetime_test\n",
       "\tmotor_case\n",
       "\tpLCA course\n",
       "\ttest_240410\n",
       "Use `projects.report()` to get a report on all projects."
      ]
     },
     "execution_count": 2,
     "metadata": {},
     "output_type": "execute_result"
    }
   ],
   "source": [
    "bd.projects"
   ]
  },
  {
   "cell_type": "code",
   "execution_count": 3,
   "id": "05e09c23-4f2f-41cb-b4c5-5c415986906d",
   "metadata": {},
   "outputs": [],
   "source": [
    "bd.projects.set_current(\"lifetime_test\")"
   ]
  },
  {
   "cell_type": "code",
   "execution_count": 4,
   "id": "6b210a03-e5fd-4a1b-9084-b626f15ebefd",
   "metadata": {},
   "outputs": [
    {
     "data": {
      "text/plain": [
       "Databases dictionary with 8 object(s):\n",
       "\tbiosphere3\n",
       "\tecoinvent_391_cutoff\n",
       "\teol_treatment\n",
       "\tfurniture_production\n",
       "\tmattress_production\n",
       "\tmotor_production\n",
       "\tpackaging\n",
       "\tprimary_production"
      ]
     },
     "execution_count": 4,
     "metadata": {},
     "output_type": "execute_result"
    }
   ],
   "source": [
    "bd.databases"
   ]
  },
  {
   "cell_type": "markdown",
   "id": "af7a9071-55d0-42b3-9efc-001c045f7371",
   "metadata": {},
   "source": [
    "## Import of biosphere database"
   ]
  },
  {
   "cell_type": "code",
   "execution_count": 5,
   "id": "b181db41-6f4e-45a5-87cd-08be5bcc7369",
   "metadata": {},
   "outputs": [
    {
     "name": "stdout",
     "output_type": "stream",
     "text": [
      "Biosphere database already present!!! No setup is needed\n"
     ]
    }
   ],
   "source": [
    "bi.bw2setup()"
   ]
  },
  {
   "cell_type": "code",
   "execution_count": 6,
   "id": "4ceb7fc7-87cf-45be-9c16-189096fa67e0",
   "metadata": {},
   "outputs": [],
   "source": [
    "biosphere_db = bd.Database(\"biosphere3\")"
   ]
  },
  {
   "cell_type": "markdown",
   "id": "36d18a57-6b71-41df-9f5b-721291e37b99",
   "metadata": {},
   "source": [
    "## Import ecoinvent"
   ]
  },
  {
   "cell_type": "markdown",
   "id": "d1d9fbc7-d22c-4596-84a9-f7c38bdaf35e",
   "metadata": {},
   "source": [
    "This project uses ecoinvent 3.9.1 cutoff."
   ]
  },
  {
   "cell_type": "code",
   "execution_count": 7,
   "id": "02fc99a1-b51f-40aa-8c4d-6a41d8a3b33b",
   "metadata": {},
   "outputs": [],
   "source": [
    "path_datasets = \"C:/Users/user_name/Downloads/ecoinvent_3.9.1_cutoff_ecoSpold02/datasets\""
   ]
  },
  {
   "cell_type": "code",
   "execution_count": 8,
   "id": "7d87e0a9-b3c3-4271-84e7-883632cc8794",
   "metadata": {},
   "outputs": [],
   "source": [
    "ei_db_name = \"ecoinvent_391_cutoff\""
   ]
  },
  {
   "cell_type": "code",
   "execution_count": 9,
   "id": "f6bc1482-13cb-4ee6-a548-9407ff0f5913",
   "metadata": {},
   "outputs": [
    {
     "name": "stdout",
     "output_type": "stream",
     "text": [
      "Database has already been imported.\n"
     ]
    }
   ],
   "source": [
    "if ei_db_name in bd.databases:\n",
    "    print(\"Database has already been imported.\")\n",
    "else:\n",
    "    ei_importer = bi.SingleOutputEcospold2Importer(path_datasets, ei_db_name)\n",
    "    ei_importer.apply_strategies()\n",
    "    ei_importer.statistics() \n",
    "    ei_importer.write_database()"
   ]
  },
  {
   "cell_type": "code",
   "execution_count": 10,
   "id": "87a88532-dfcf-4df2-b237-317f55228680",
   "metadata": {},
   "outputs": [],
   "source": [
    "ei_db = bd.Database(ei_db_name)"
   ]
  },
  {
   "cell_type": "markdown",
   "id": "d244323f-1080-421a-9daa-bcc323e392a4",
   "metadata": {},
   "source": [
    "# End-of-life treatment of materials"
   ]
  },
  {
   "cell_type": "markdown",
   "id": "6d989f76-7efc-457f-a505-5e58a74a7c17",
   "metadata": {},
   "source": [
    "## Selection of relevant ecoinvent activities"
   ]
  },
  {
   "cell_type": "code",
   "execution_count": 11,
   "id": "cc699a53-872f-485b-b338-a78d9247b1d6",
   "metadata": {},
   "outputs": [],
   "source": [
    "act_eol_copper = ei_db.search(\"treatment of copper scrap by electrolytic refining RER\")[0]"
   ]
  },
  {
   "cell_type": "code",
   "execution_count": 12,
   "id": "50827b5a-4416-4a3f-b0cf-98c01685e4d5",
   "metadata": {},
   "outputs": [],
   "source": [
    "act_eol_steel_low_alloyed = ei_db.search(\"steel production, electric, low-alloyed Europe without Switzerland and Austria\")[0]"
   ]
  },
  {
   "cell_type": "markdown",
   "id": "1b1bf88f-f106-4f4d-aa96-4631f79ee0d4",
   "metadata": {},
   "source": [
    "## Treatment of steel"
   ]
  },
  {
   "cell_type": "markdown",
   "id": "e2faf0af-16c0-4e5f-a6a5-86f530b8aa14",
   "metadata": {},
   "source": [
    "This is to create an activity which takes iron scrap in input and produces low-alloyed steel. This is the last step of steel recycling, where scraps are transformed into usable material. The activity is based on the ecoinvent dataset for steel production (steel production, electric, low-alloyed). The iron scrap that is originally in input and linked to another ecoinvent activity is removed and transferred to a negative output of the activity."
   ]
  },
  {
   "cell_type": "code",
   "execution_count": 13,
   "id": "436f4b76-958d-49a9-9f74-3eecc761cbef",
   "metadata": {},
   "outputs": [],
   "source": [
    "def create_treatment_iron_scrap(name_eol_db):\n",
    "    data_eol_activity = {\n",
    "        \"database\": name_eol_db, \n",
    "        \"name\": \"treatment of iron scrap by steel production, low-alloyed\",\n",
    "        \"reference product\": \"iron scrap, sorted, pressed\",\n",
    "    }\n",
    "        \n",
    "    act_eol_iron = act_eol_steel_low_alloyed.copy(**data_eol_activity)\n",
    "\n",
    "    # Capture amount of iron treated and delete exchange (set to 0)\n",
    "    for exc in act_eol_iron.exchanges():\n",
    "        if exc[\"name\"] == \"iron scrap, sorted, pressed\":\n",
    "            amount_iron_scrap = exc[\"amount\"]\n",
    "            exc.delete()\n",
    "    act_eol_iron.save()\n",
    "\n",
    "    # Replace output amount to -amount_iron_scrap\n",
    "    for exc in act_eol_iron.exchanges():\n",
    "        if exc[\"type\"] == \"production\":\n",
    "            exc[\"amount\"] = -amount_iron_scrap\n",
    "            exc.save()\n",
    "            act_eol_iron[\"production amount\"] = -amount_iron_scrap\n",
    "    act_eol_iron.save()"
   ]
  },
  {
   "cell_type": "markdown",
   "id": "663a2d65-de5e-4e4f-a904-a30af60a569a",
   "metadata": {},
   "source": [
    "## Treatment of copper"
   ]
  },
  {
   "cell_type": "markdown",
   "id": "2f839440-ea75-459b-ae4e-b8e6d91c21e1",
   "metadata": {},
   "source": [
    "This is to create an activity which takes copper scrap in input and produces copper, cathode. This is the last step of copper recycling, where scraps are transformed into usable material. The activity is based on the ecoinvent dataset for copper production (treatment of copper scrap by electrolytic refining). The copper scrap that is originally in input and linked to another ecoinvent activity is removed and transferred to a negative output of the activity."
   ]
  },
  {
   "cell_type": "code",
   "execution_count": 14,
   "id": "c60e0214-6b2a-446b-a68d-3797300f0762",
   "metadata": {},
   "outputs": [],
   "source": [
    "def create_treatment_copper_scrap(name_eol_db):\n",
    "    data_eol_activity = {\n",
    "        \"database\": name_eol_db, \n",
    "        \"name\": \"treatment of copper scrap by electrolytic refining\",\n",
    "        \"reference product\": \"copper scrap, sorted, pressed\",\n",
    "    }\n",
    "        \n",
    "    act_eol_copper_new = act_eol_copper.copy(**data_eol_activity)\n",
    "\n",
    "    # Capture amount of copper treated and delete exchange\n",
    "    for exc in act_eol_copper_new.exchanges():\n",
    "        if exc[\"name\"] == \"copper scrap, sorted, pressed\":\n",
    "            amount_copper_scrap = exc[\"amount\"]\n",
    "            exc.delete()\n",
    "    act_eol_copper_new.save()\n",
    "\n",
    "    # Replace output amount to -amount_copper_scrap\n",
    "    for exc in act_eol_copper_new.exchanges():\n",
    "        if exc[\"type\"] == \"production\":\n",
    "            exc[\"amount\"] = -amount_copper_scrap\n",
    "            exc.save()\n",
    "            act_eol_copper_new[\"production amount\"] = -amount_copper_scrap\n",
    "    act_eol_copper_new.save()"
   ]
  },
  {
   "cell_type": "markdown",
   "id": "a8f6a68e-2eff-4df7-a755-9ccbf4ee78fa",
   "metadata": {},
   "source": [
    "## Database creation"
   ]
  },
  {
   "cell_type": "code",
   "execution_count": 15,
   "id": "6ed24c65-9e7d-4136-b275-546131cc13ca",
   "metadata": {},
   "outputs": [],
   "source": [
    "def create_eol_treatment_db(name_eol_db):\n",
    "    reset_brightway_database(name_eol_db)\n",
    "    eol_db = bd.Database(name_eol_db)\n",
    "    eol_db.register()\n",
    "    create_treatment_iron_scrap(name_eol_db)\n",
    "    create_treatment_copper_scrap(name_eol_db)"
   ]
  },
  {
   "cell_type": "code",
   "execution_count": 16,
   "id": "0c01b390-7f08-4004-8500-d392a0fbd846",
   "metadata": {},
   "outputs": [],
   "source": [
    "name_eol_db=\"eol_treatment\"\n",
    "create_eol_treatment_db(name_eol_db)"
   ]
  },
  {
   "cell_type": "code",
   "execution_count": 17,
   "id": "170b40d1-68b4-4f67-8ac8-01dcd6d9211a",
   "metadata": {},
   "outputs": [],
   "source": [
    "eol_db = bd.Database(name_eol_db)"
   ]
  },
  {
   "cell_type": "markdown",
   "id": "5dfda475-c887-4766-8f87-609538cdc030",
   "metadata": {},
   "source": [
    "# LCI"
   ]
  },
  {
   "cell_type": "markdown",
   "id": "dc4982c0-d4df-4b35-bdf3-7c711b505f65",
   "metadata": {},
   "source": [
    "## Selection of relevant processes"
   ]
  },
  {
   "cell_type": "markdown",
   "id": "895fb1fc-a257-43dd-ba29-723a71ae17ab",
   "metadata": {},
   "source": [
    "### Biosphere flows"
   ]
  },
  {
   "cell_type": "code",
   "execution_count": 18,
   "id": "2b9f3b94-155f-415f-9f98-87c557337ee6",
   "metadata": {},
   "outputs": [],
   "source": [
    "ef_co2 = biosphere_db.search(\"Carbon dioxide, fossil ('air',)\")[0]"
   ]
  },
  {
   "cell_type": "code",
   "execution_count": 19,
   "id": "eb83d8dc-3caa-4abf-a282-ed5bf20deff8",
   "metadata": {},
   "outputs": [],
   "source": [
    "ef_ni_oxide = biosphere_db.search(\"Nitrogen oxides ('air',)\")[0]"
   ]
  },
  {
   "cell_type": "code",
   "execution_count": 20,
   "id": "e3adab15-29ca-402f-989c-61600e235e9d",
   "metadata": {},
   "outputs": [],
   "source": [
    "ef_su_dioxide = biosphere_db.search(\"Sulfur dioxide ('air',)\")[0]"
   ]
  },
  {
   "cell_type": "markdown",
   "id": "6f4fac55-03d2-48cb-b496-77ce76313c6d",
   "metadata": {},
   "source": [
    "### Ecoinvent activities for material production"
   ]
  },
  {
   "cell_type": "code",
   "execution_count": 21,
   "id": "39f67918-3306-4fef-a9dc-b2b0a7ac16b6",
   "metadata": {},
   "outputs": [],
   "source": [
    "act_steel_unalloyed = ei_db.search(\"steel production, converter, unalloyed RER\")[0]"
   ]
  },
  {
   "cell_type": "code",
   "execution_count": 22,
   "id": "6bfcf9d8-2d52-45a7-b067-a81fce39527d",
   "metadata": {},
   "outputs": [],
   "source": [
    "act_steel_low_alloyed = ei_db.search(\"market for steel, low-alloyed GLO\")[0]"
   ]
  },
  {
   "cell_type": "code",
   "execution_count": 23,
   "id": "0f9bc117-e346-476e-8553-5350ab7e85b1",
   "metadata": {},
   "outputs": [],
   "source": [
    "act_displaced_steel_low_alloyed = ei_db.search(\"steel production, converter, low-alloyed RER\")[0]"
   ]
  },
  {
   "cell_type": "code",
   "execution_count": 24,
   "id": "3a40333a-a542-46fa-a662-50ea4d9ad82e",
   "metadata": {},
   "outputs": [],
   "source": [
    "act_hot_rolling = ei_db.search(\"market for hot rolling, steel GLO\")[0]"
   ]
  },
  {
   "cell_type": "code",
   "execution_count": 25,
   "id": "355c1a47-124b-4231-be57-7a0dee6a3fdb",
   "metadata": {},
   "outputs": [],
   "source": [
    "act_aluminium = ei_db.search(\"market for aluminium, cast alloy GLO\")[0]"
   ]
  },
  {
   "cell_type": "code",
   "execution_count": 26,
   "id": "81795d56-a525-4619-b7a0-8070480a42de",
   "metadata": {},
   "outputs": [],
   "source": [
    "act_copper = ei_db.search(\"market for copper, cathode GLO\")[0]"
   ]
  },
  {
   "cell_type": "code",
   "execution_count": 27,
   "id": "69213e99-1cda-4ed6-aaa7-934aa253c6eb",
   "metadata": {},
   "outputs": [],
   "source": [
    "act_brass_market = ei_db.search(\"market for brass RoW\")[0]"
   ]
  },
  {
   "cell_type": "code",
   "execution_count": 28,
   "id": "294818c2-f7e1-4331-8e52-998e17d91c43",
   "metadata": {},
   "outputs": [],
   "source": [
    "act_brazing = ei_db.search(\"brazing solder production, cadmium free RER\")[0]"
   ]
  },
  {
   "cell_type": "code",
   "execution_count": 29,
   "id": "db0d66b3-3d4d-43c7-a973-817b626c3aaf",
   "metadata": {},
   "outputs": [],
   "source": [
    "act_elec_mv = ei_db.search(\"market for electricity, medium voltage SE\")[0]"
   ]
  },
  {
   "cell_type": "code",
   "execution_count": 30,
   "id": "fc90fe73-05da-46eb-a899-9b72717335f8",
   "metadata": {},
   "outputs": [],
   "source": [
    "act_ferrosilicon = ei_db.search(\"market for ferrosilicon GLO\")[0]"
   ]
  },
  {
   "cell_type": "code",
   "execution_count": 31,
   "id": "e5d473dd-9424-424f-b275-3fc262949355",
   "metadata": {},
   "outputs": [],
   "source": [
    "act_elec_lv = ei_db.search(\"market for electricity, low voltage SE\")[0]"
   ]
  },
  {
   "cell_type": "code",
   "execution_count": 32,
   "id": "6ef57c75-124b-411c-8ade-56c81a9cb759",
   "metadata": {},
   "outputs": [],
   "source": [
    "act_propane = ei_db.search(\"market for liquefied petroleum gas Europe\")[0]"
   ]
  },
  {
   "cell_type": "code",
   "execution_count": 33,
   "id": "d3f7140d-bd8a-41ee-a495-fc4758a04827",
   "metadata": {},
   "outputs": [],
   "source": [
    "act_oil = ei_db.search(\"market for lubricating oil RER\")[0]"
   ]
  },
  {
   "cell_type": "code",
   "execution_count": 34,
   "id": "8505c48f-e023-400e-babe-65f6442d1fd7",
   "metadata": {},
   "outputs": [],
   "source": [
    "act_resin = ei_db.search(\"market for phenolic resin RER\")[0]"
   ]
  },
  {
   "cell_type": "code",
   "execution_count": 35,
   "id": "7c56a405-599e-469e-8c69-104971a11f69",
   "metadata": {},
   "outputs": [],
   "source": [
    "act_quicklime = ei_db.search(\"market for quicklime, milled, packed RER\")[0]"
   ]
  },
  {
   "cell_type": "code",
   "execution_count": 36,
   "id": "79e6f6fb-eae9-4956-97ee-ddf1b42abed9",
   "metadata": {},
   "outputs": [],
   "source": [
    "act_sulfuric_acid = ei_db.search(\"market for sulfuric acid RER\")[0]"
   ]
  },
  {
   "cell_type": "code",
   "execution_count": 37,
   "id": "5ec0d158-7007-47f8-b3fc-2bb5f9cfa102",
   "metadata": {},
   "outputs": [],
   "source": [
    "act_glass_fibre = ei_db.search(\"market for glass fibre GLO\")[0]"
   ]
  },
  {
   "cell_type": "code",
   "execution_count": 38,
   "id": "c2c7d0b8-abb2-481f-8969-6dcf7dd2b4de",
   "metadata": {},
   "outputs": [],
   "source": [
    "act_sand = ei_db.search(\"market for silica sand GLO\")[0]"
   ]
  },
  {
   "cell_type": "code",
   "execution_count": 39,
   "id": "5c63a4d9-f722-4b3c-976a-c3af22a03d5d",
   "metadata": {},
   "outputs": [],
   "source": [
    "act_silicone = ei_db.search(\"market for silicone product RER\")[0]"
   ]
  },
  {
   "cell_type": "code",
   "execution_count": 40,
   "id": "daed4259-6081-46a0-8d05-ab8d8a0385db",
   "metadata": {},
   "outputs": [],
   "source": [
    "act_epoxy_resin = ei_db.search(\"market for epoxy resin, liquid RER\")[0]"
   ]
  },
  {
   "cell_type": "code",
   "execution_count": 41,
   "id": "99b7d4d8-72de-49b9-a7e0-3f8e4201bb27",
   "metadata": {},
   "outputs": [],
   "source": [
    "act_nylon = ei_db.search(\"market for nylon 6 RER\")[0]"
   ]
  },
  {
   "cell_type": "code",
   "execution_count": 42,
   "id": "22319e76-2921-4cd1-8770-02c1c8f41c40",
   "metadata": {},
   "outputs": [],
   "source": [
    "act_heat = ei_db.search(\"heat, from municipal waste incineration to generic market for heat district or industrial, other than natural gas SE\")[0]"
   ]
  },
  {
   "cell_type": "code",
   "execution_count": 43,
   "id": "7567cc75-0074-48b3-89d3-2d57eaa78b5b",
   "metadata": {},
   "outputs": [],
   "source": [
    "act_incineration_copper = ei_db.search(\"treatment of copper in car shredder residue, municipal incineration with fly ash extraction CH\")[0]"
   ]
  },
  {
   "cell_type": "code",
   "execution_count": 44,
   "id": "b2760210-df0d-408a-870c-7b1dc0c5a55c",
   "metadata": {},
   "outputs": [],
   "source": [
    "act_incineration_plastic = ei_db.search(\"treatment of waste plastic, mixture, municipal incineration with fly ash extraction CH\")[0]"
   ]
  },
  {
   "cell_type": "markdown",
   "id": "5180ba3c-3023-41c1-b255-832a28259354",
   "metadata": {},
   "source": [
    "### End-of-life treatment activities from ecoinvent"
   ]
  },
  {
   "cell_type": "code",
   "execution_count": 45,
   "id": "0658e802-0899-46b8-8f5b-3e1635129ca8",
   "metadata": {},
   "outputs": [],
   "source": [
    "act_treatment_steel = eol_db.search(\"treatment of iron scrap by steel production, low-alloyed\")[0]"
   ]
  },
  {
   "cell_type": "code",
   "execution_count": 46,
   "id": "82e63986-ce7a-419d-be1d-f7678a364ca2",
   "metadata": {},
   "outputs": [],
   "source": [
    "act_treatment_copper = eol_db.search(\"treatment of copper scrap by electrolytic refining\")[0]"
   ]
  },
  {
   "cell_type": "markdown",
   "id": "c288f4b8-8445-487a-aff9-ac5465344880",
   "metadata": {},
   "source": [
    "## Electrical steel sheet production\n",
    "\n",
    "Electrical steel sheet production process starts with the production of silicon steel, made from an alloy of carbon steel with silicon and aluminium. The silicon steel is then further processed into coils by hot rolling, which are then pickled, and finally cold rolled into sheets of the desired thickness."
   ]
  },
  {
   "cell_type": "markdown",
   "id": "02d18091-54b8-44f4-81f7-dfc5ea924ce9",
   "metadata": {},
   "source": [
    "### Silicon steel production\n",
    "\n",
    "Data for the inputs in the process are from Table 27 in Nordelöf et al. (2017a). The quantities are for the production of 1 kg of silicon steel."
   ]
  },
  {
   "cell_type": "code",
   "execution_count": 47,
   "id": "692d10e5-28a3-474a-b6ba-a609cfe7120b",
   "metadata": {},
   "outputs": [],
   "source": [
    "si_steel_amount_steel = 0.979 #kg\n",
    "si_steel_amount_ferrosilicon = 0.027 #kg\n",
    "si_steel_amount_al = 0.004 #kg"
   ]
  },
  {
   "cell_type": "markdown",
   "id": "a1a01d97-5288-433c-8ad4-76d0699d49e1",
   "metadata": {},
   "source": [
    "Hot rolling is also added to form the coils."
   ]
  },
  {
   "cell_type": "code",
   "execution_count": 48,
   "id": "f2d73e20-8e25-476e-89ed-a870a4c786ad",
   "metadata": {},
   "outputs": [],
   "source": [
    "def create_silicon_seel_production_activity(motor_db):\n",
    "    create_new_activity(\n",
    "        act_name= \"silicon steel hot rolled production\",\n",
    "        unit= \"kilogram\",\n",
    "        location = \"RER\",\n",
    "        exchanges=[\n",
    "            (act_steel_unalloyed, si_steel_amount_steel),\n",
    "            (act_ferrosilicon, si_steel_amount_ferrosilicon),\n",
    "            (act_aluminium, si_steel_amount_al),\n",
    "            (act_hot_rolling, 1)\n",
    "        ],\n",
    "        database= motor_db,\n",
    "        name_product= \"silicon steel, hot rolled\"\n",
    "    )"
   ]
  },
  {
   "cell_type": "markdown",
   "id": "78ed5610-7ded-440f-8601-c1af04681e64",
   "metadata": {},
   "source": [
    "### Electrical steel sheet production\n",
    "\n",
    "Data for the inputs, emissions and waste in the process are from Tables 28 and 29 in Nordelöf et al. (2017a). The quantities are for the production of 1 kg of electrical steel sheets.\n",
    "\n",
    "*NB: In Table 29 of Nordelöf et al. (2017a), emissions of sulfur oxides are reported but linked to the elementary flow \"sulphur dioxide\" of ecoinvent 3. Therefore, an elementary flow of sulphur dioxide is chosen.*"
   ]
  },
  {
   "cell_type": "code",
   "execution_count": 49,
   "id": "29db8db7-56f0-45b0-a730-0f1fb561828c",
   "metadata": {},
   "outputs": [],
   "source": [
    "el_steel_amount_si_steel = 1.14 #kg\n",
    "el_steel_amount_resin = 0.001 #kg\n",
    "el_steel_amount_elec = 0.630 #kWh\n",
    "el_steel_amount_propane = 0.012 #kg\n",
    "el_steel_amount_sulfuric_acid = 0.019 #kg\n",
    "el_steel_amount_oil = 0.4 / 1000 #kg\n",
    "el_steel_amount_quicklime = 0.8 / 1000 #kg"
   ]
  },
  {
   "cell_type": "code",
   "execution_count": 50,
   "id": "e8665903-0726-4cf9-baca-d5d67b04cd2e",
   "metadata": {},
   "outputs": [],
   "source": [
    "el_steel_amount_co2 = 0.036 #kg\n",
    "el_steel_amount_ni_oxide = 0.1 / 1000 #kg\n",
    "el_steel_amount_su_oxide = 0.000000060 #kg (rounding problem if 0.06/1000/1000)\n",
    "el_steel_amount_steel_scrap = 0.114 #kg\n",
    "el_steel_amount_sludge = 0.0033 # kg"
   ]
  },
  {
   "cell_type": "markdown",
   "id": "cb7466f7-8802-45e1-83df-ef1b26cb3d77",
   "metadata": {},
   "source": [
    "Sludge treatment is not included. It is assumed that the contribution of this process is negligibled in the impact of the motor production."
   ]
  },
  {
   "cell_type": "code",
   "execution_count": 51,
   "id": "4d2801c7-64d8-404c-b7f8-3315f785cbc2",
   "metadata": {},
   "outputs": [],
   "source": [
    "def create_electrical_seel_production_activity(motor_db):\n",
    "    act_si_steel = motor_db.search(\"silicon steel hot rolled production RER\")[0]\n",
    "    create_new_activity(\n",
    "        act_name= \"electrical steel sheet production\",\n",
    "        unit= \"kilogram\",\n",
    "        location = \"SE\",\n",
    "        exchanges=[\n",
    "            (act_si_steel, el_steel_amount_si_steel),\n",
    "            (act_resin, el_steel_amount_resin),\n",
    "            (act_elec_lv, el_steel_amount_elec),\n",
    "            (act_propane, el_steel_amount_propane),\n",
    "            (act_sulfuric_acid, el_steel_amount_sulfuric_acid),\n",
    "            (act_oil, el_steel_amount_oil),\n",
    "            (act_quicklime, el_steel_amount_quicklime),\n",
    "            (act_treatment_steel, -round(el_steel_amount_si_steel - 1, 2)), #Use of round function to avoid getting 0.13999999\n",
    "        ],\n",
    "        database= motor_db,\n",
    "        biosphere_exchanges=[\n",
    "            (ef_co2, el_steel_amount_co2),\n",
    "            (ef_ni_oxide, el_steel_amount_ni_oxide),\n",
    "            (ef_su_dioxide, el_steel_amount_su_oxide)\n",
    "        ],\n",
    "        name_product=\"electrical steel sheet\"\n",
    "    )"
   ]
  },
  {
   "cell_type": "markdown",
   "id": "e6d06992-e104-4795-b1da-9049e71d1ae3",
   "metadata": {},
   "source": [
    "## Mica tape production"
   ]
  },
  {
   "cell_type": "markdown",
   "id": "67a34f8d-09e7-4ef0-8d6a-3677fcee0c34",
   "metadata": {},
   "source": [
    "Mica tape is used for insulation in the induction motor. As in Nordelöf et al. (2017a), the processing for mica tape production beyond the material constituents has not been included in the modelling for simplicity and given the very low contribution of motor insulation to the material content and the results. Mica tape is made of glass fibre, silica sand (mica) and silicone (Nordelöf et al., 2017a). Proportions are retrieved from the scalable inventory from Nordelöf et al. (2017b) (in “1. Mass configuration”, cells L22 to L24)."
   ]
  },
  {
   "cell_type": "code",
   "execution_count": 52,
   "id": "5f301005-3b90-44d6-9dea-58ebfdfb08a7",
   "metadata": {},
   "outputs": [],
   "source": [
    "mica_tape_amount_glass_fibre = 0.19\n",
    "mica_tape_amount_sand = 0.7\n",
    "mica_tape_amount_silicone = 0.11"
   ]
  },
  {
   "cell_type": "code",
   "execution_count": 53,
   "id": "61e2eced-e1e1-4d9b-86f9-afb088ef763b",
   "metadata": {},
   "outputs": [],
   "source": [
    "def create_mica_tape_production_activity(motor_db):\n",
    "    create_new_activity(\n",
    "        act_name= \"mica tape production\",\n",
    "        unit= \"kilogram\",\n",
    "        location = \"RER\",\n",
    "        exchanges=[\n",
    "            (act_glass_fibre, mica_tape_amount_glass_fibre),\n",
    "            (act_sand, mica_tape_amount_sand),\n",
    "            (act_silicone, mica_tape_amount_silicone)\n",
    "        ],\n",
    "        database= motor_db,\n",
    "        name_product= \"mica tape\"\n",
    "    )"
   ]
  },
  {
   "cell_type": "markdown",
   "id": "4e74a91d-a27a-4863-83af-e2e0b842ef6c",
   "metadata": {},
   "source": [
    "## Motor manufacturing"
   ]
  },
  {
   "cell_type": "markdown",
   "id": "eaab737d-dfeb-4a58-b5f2-e0194a07ecf8",
   "metadata": {},
   "source": [
    "No emissions are directly emitted at the production facilities. No auxiliary material has been estimated to contribute significantly to the impact of motor manufacturing. Quantities of material inputs have been estimated based on the bill of material and the material quantities ordered for manufacturing provided by the manufacturer, and they have been used to model the processes in motor manufacturing. The inventory does not include materials with a minor share in the bill of materials such as resin for the resin impregnation of the stator and paint. It has been estimated in previous studies that their impact is minor in the life cycle of the motor (Nordelöf et al., 2017a; Westberg, 2021).\n",
    "\n",
    "Additional inputs and outputs are energy inputs and metal scraps sent to waste treatment. For simplicity, the inventory of energy use and scrap generation has been limited to their respective main contributing processes. Two processes have a high scrap rate: the punching of electrical steel sheets and the machining of the shaft. And the three most energy-consuming processes are the final testing of the motor, the vacuum-pressing resin impregnation of the stator and the machining of the rotor shaft. The other processes have been estimated to use little energy compared to the three listed above based on discussions with experts and the inventory from Nordelöf et al. (2017a). Furthermore, results from a preliminary motor manufacturing modelling based on an average energy use for the total production show that energy use during manufacturing does not have a significant impact so the omission of energy use for other processes has very little consequence on the validity of the results."
   ]
  },
  {
   "cell_type": "markdown",
   "id": "12a6f7a4-e7b1-4ff5-a902-a189db823285",
   "metadata": {},
   "source": [
    "### Machinig of the shaft and pole tips"
   ]
  },
  {
   "cell_type": "markdown",
   "id": "3d9fce73-1246-43ac-9fbb-ba67fd749021",
   "metadata": {},
   "source": [
    "Except for motor testing and resin impregnation, energy use for specific processes is not monitored at the manufacturing facilities. For the energy use of shaft machining, data for a similar process for low-voltage permanent magnet synchronous motors, described by Nordelöf et al. (2017a), are used (Table 47 in Nordelöf et al. (2017a)). The scrap ratios are provided by the manufacturer and differ between a shaft (for IM and SM) and pole tips (for SM only)."
   ]
  },
  {
   "cell_type": "code",
   "execution_count": 54,
   "id": "5800e139-945f-44db-9dc6-7fe6da4bf074",
   "metadata": {},
   "outputs": [],
   "source": [
    "shaft_machining_elec = 0.108 #kWh per kg of shaft\n",
    "shaft_machining_efficiency = 0.9 #Ratio output/input\n",
    "pole_tips_machining_efficiency = 0.62 #Ratio output/input"
   ]
  },
  {
   "cell_type": "markdown",
   "id": "70d3c2f0-3da6-427a-aee4-b3f7cb6c3ca5",
   "metadata": {},
   "source": [
    "The activity includes the electricity use and recycling of scrap for the machining of 1kg of shaft or pole tips."
   ]
  },
  {
   "cell_type": "code",
   "execution_count": 55,
   "id": "9f53e99f-fd8f-4de0-a2ed-3909b59e3d6d",
   "metadata": {},
   "outputs": [],
   "source": [
    "def create_shaft_machining_activity(motor_db):\n",
    "    shaft_machining_scrap = 1 / shaft_machining_efficiency - 1\n",
    "    create_new_activity(\n",
    "        act_name= \"shaft machining\",\n",
    "        unit= \"kilogram\",\n",
    "        location = \"SE\",\n",
    "        exchanges=[\n",
    "            (act_elec_mv, shaft_machining_elec),\n",
    "            (act_treatment_steel, -shaft_machining_scrap)\n",
    "        ],\n",
    "        database= motor_db,\n",
    "        name_product= \"machined shaft\"\n",
    "    )"
   ]
  },
  {
   "cell_type": "code",
   "execution_count": 56,
   "id": "aaf7eb9f-5eed-406e-a7dc-f204b1ace240",
   "metadata": {},
   "outputs": [],
   "source": [
    "def create_pole_tips_machining_activity(motor_db):\n",
    "    pole_tips_machining_scrap = 1 / pole_tips_machining_efficiency - 1\n",
    "    create_new_activity(\n",
    "        act_name= \"pole tips machining\",\n",
    "        unit= \"kilogram\",\n",
    "        location = \"SE\",\n",
    "        exchanges=[\n",
    "            (act_elec_mv, shaft_machining_elec),\n",
    "            (act_treatment_steel, -pole_tips_machining_scrap)\n",
    "        ],\n",
    "        database= motor_db,\n",
    "        name_product= \"machined pole tips\"\n",
    "    )"
   ]
  },
  {
   "cell_type": "markdown",
   "id": "ccf2ada7-204f-43c3-b383-126f21e43143",
   "metadata": {},
   "source": [
    "### Punching of electrical steel"
   ]
  },
  {
   "cell_type": "markdown",
   "id": "b6931dc2-5b5b-476a-b08e-d85e19865787",
   "metadata": {},
   "source": [
    "Similar to the process of machining of the shaft, energy use is not available from the manufacturer so a similar process for the punching of electrical steel sheets described in Table 36 of Nordelöf et al. (2017a) is used. The quantity of scrap generated is provided by the manufacturer and differs for the rotor and stator."
   ]
  },
  {
   "cell_type": "code",
   "execution_count": 57,
   "id": "0d91e1bf-6790-4dea-8483-61bc0f5cd0d1",
   "metadata": {},
   "outputs": [],
   "source": [
    "punching_elec = 0.013 #kWh per kg of punched electrical steel\n",
    "punching_rotor_efficiency = 0.36 #Ratio output/input\n",
    "punching_stator_efficiency = 0.6 #Ratio output/input"
   ]
  },
  {
   "cell_type": "code",
   "execution_count": 58,
   "id": "1b9e30a4-e87c-4c9e-9ae5-ef55c12cf726",
   "metadata": {},
   "outputs": [],
   "source": [
    "def create_punching_rotor_lamination_activity(motor_db):\n",
    "    punching_rotor_scrap = 1 / punching_rotor_efficiency - 1\n",
    "    create_new_activity(\n",
    "        act_name= \"rotor lamination punching\",\n",
    "        unit= \"kilogram\",\n",
    "        location = \"SE\",\n",
    "        exchanges=[\n",
    "            (act_elec_mv, punching_elec),\n",
    "            (act_treatment_steel, -punching_rotor_scrap)\n",
    "        ],\n",
    "        database= motor_db,\n",
    "        name_product= \"punched rotor lamination\"\n",
    "    )"
   ]
  },
  {
   "cell_type": "code",
   "execution_count": 59,
   "id": "30b10627-969b-414b-a7fe-a9095b86a06f",
   "metadata": {},
   "outputs": [],
   "source": [
    "def create_punching_stator_lamination_activity(motor_db):\n",
    "    punching_stator_scrap = 1 / punching_stator_efficiency - 1\n",
    "    create_new_activity(\n",
    "        act_name= \"stator lamination punching\",\n",
    "        unit= \"kilogram\",\n",
    "        location = \"SE\",\n",
    "        exchanges=[\n",
    "            (act_elec_mv, punching_elec),\n",
    "            (act_treatment_steel, -punching_stator_scrap)\n",
    "        ],\n",
    "        database= motor_db,\n",
    "        name_product= \"punched stator lamination\"\n",
    "    )"
   ]
  },
  {
   "cell_type": "markdown",
   "id": "b6d34c68-d054-4652-afc7-e504e818805b",
   "metadata": {},
   "source": [
    "### Rotor production"
   ]
  },
  {
   "cell_type": "markdown",
   "id": "64271709-b5e6-4f8d-b9a8-3c5f733e5b74",
   "metadata": {},
   "source": [
    "The steel shaft is machined into its specific shape. Electrical-steel sheets are punched and stacked around the shaft. Copper bars are inserted into slots in the stacked electrical-steel sheets and copper short-circuit rings are brazed on both sides of the copper bars to form a closed circuit. \n",
    "The inventory includes material inputs, including wasted amount of material for electrical steel and low-alloyed steel, and activities for the shaft machining and electrical steel sheet punching."
   ]
  },
  {
   "cell_type": "markdown",
   "id": "2aa08bbd-2305-4721-8601-4d3fc7f1c1ae",
   "metadata": {},
   "source": [
    "**As the composition of the rotor is confidential, the activity for rotor production is not provided in this document.**"
   ]
  },
  {
   "cell_type": "markdown",
   "id": "c5548aec-c8b9-4fe2-a72e-ba74b60feaf3",
   "metadata": {},
   "source": [
    "### Stator impregnation"
   ]
  },
  {
   "cell_type": "markdown",
   "id": "131a0522-fd80-4d16-a393-7cf6d9dbf08c",
   "metadata": {},
   "source": [
    "Activity to model the vacuum pressure impregnation (VPI) of the stator. The stator is dried in an oven. In a vacuum environment, the stator is immersed in a resin and the resin is pressed. Then the stator is baked until the resin is hardened, and rinsed.\n",
    "\n",
    "Electricity use for vacuum pressing resin impregnation is based on the annual energy bill from 2020 of the building designated to this process divided by the number of machines produced. The quantity of resin used in the process and the quantity remaining in the stator is unknown. The resin not impregnated in the stator is reused so the amount of resin allocated to one motor would have been the amount in the final product. This incompleteness in the inventory is estimated to have little impact on the validity of the results. The inventory for resin impregnation is therefore limited to energy use."
   ]
  },
  {
   "cell_type": "code",
   "execution_count": 60,
   "id": "8c715f2b-611d-4d0c-bfc1-dd67ac8b417b",
   "metadata": {},
   "outputs": [],
   "source": [
    "impregnation_amount_elec = 3572.7 #kWh for one stator"
   ]
  },
  {
   "cell_type": "code",
   "execution_count": 61,
   "id": "850be7c1-7da4-45dd-9b01-cfb2c6aa1f48",
   "metadata": {},
   "outputs": [],
   "source": [
    "def create_stator_impregnation_activity(motor_db):\n",
    "    create_new_activity(\n",
    "        act_name= \"vacuum pressure impregnation of the stator\",\n",
    "        unit= \"unit\",\n",
    "        location = \"SE\",\n",
    "        exchanges=[\n",
    "            (act_elec_mv, impregnation_amount_elec)\n",
    "        ],\n",
    "        database= motor_db,\n",
    "        name_product= \"stator impregnation\"\n",
    "    )"
   ]
  },
  {
   "cell_type": "markdown",
   "id": "84297137-95de-406e-81fa-f64263812146",
   "metadata": {},
   "source": [
    "### Stator production"
   ]
  },
  {
   "cell_type": "markdown",
   "id": "a3c1f675-bd32-4e74-a991-a46b3dd94266",
   "metadata": {},
   "source": [
    "The stator is produced in three main steps:\n",
    "\n",
    "- Production of the core: Electrical steel sheets are punched into the desired geometry. The sheets are then stacked and pressed. Steel bars are added and welded to a beginning and an end frame which hold together the laminates.\n",
    "- Production of the coils: Copper wires are shaped into coils. The group of wires is insulated with insulation tape wrapping the coils.\n",
    "- Assembly of the stator: The coils are taped to protect the insulation and ensure a good connection with the electrical steel. They are inserted in slots on the core. The coils are then coupled together and coupled to sockets. The stator is dried in an oven. In a vacuum environment, the stator is immersed in a resin and the resin is pressed. Then the stator is baked for the resin to harden and is rinsed. "
   ]
  },
  {
   "cell_type": "markdown",
   "id": "ce9e7618-a5a5-49d5-9b76-cf59ad0d2272",
   "metadata": {},
   "source": [
    "**As the composition of the stator is confidential, the activity for stator production is not provided in this document.**"
   ]
  },
  {
   "cell_type": "markdown",
   "id": "435a2521-0193-4a9c-9753-7574ee86eb35",
   "metadata": {},
   "source": [
    "### Bearings production"
   ]
  },
  {
   "cell_type": "markdown",
   "id": "685f2223-9e88-4b3c-86f1-57d604641577",
   "metadata": {},
   "source": [
    "The inventory is limited to material requirements estimated from the bill of material and the material quantities ordered for manufacturing. Scraps are sent to recycling."
   ]
  },
  {
   "cell_type": "markdown",
   "id": "64ba3a9a-a26e-481d-aa71-2a7c39f21482",
   "metadata": {},
   "source": [
    "**As the composition of the bearings is confidential, the activity for bearings production is not provided in this document.**"
   ]
  },
  {
   "cell_type": "markdown",
   "id": "6be638f0-09d8-4edb-826a-84a800398e57",
   "metadata": {},
   "source": [
    "### Frame and cooler production"
   ]
  },
  {
   "cell_type": "markdown",
   "id": "7058c32a-2925-44d7-9cd1-59052def0af3",
   "metadata": {},
   "source": [
    "The inventory is limited to material requirements estimated from the bill of material."
   ]
  },
  {
   "cell_type": "markdown",
   "id": "0c23d025-3342-4ed7-a2fe-66c617cb8931",
   "metadata": {},
   "source": [
    "**As the composition of the frame and cooler is confidential, the activity for the frame and cooler production is not provided in this document.**"
   ]
  },
  {
   "cell_type": "markdown",
   "id": "b6265245-a89b-4370-b7aa-6ee0123acee4",
   "metadata": {},
   "source": [
    "### Testing of the motor"
   ]
  },
  {
   "cell_type": "markdown",
   "id": "6d168214-f3ae-47d5-99af-f373ba96857b",
   "metadata": {},
   "source": [
    "The electricity used for the testing of one HV motor is based on the annual energy bill for the HV machine testing room over the year 2020 divided by the number of HV machines produced this year. The Coronavirus pandemic did not significantly impact the annual production volume. "
   ]
  },
  {
   "cell_type": "code",
   "execution_count": 62,
   "id": "a2e72364-58fe-4ef3-8409-14af92b37167",
   "metadata": {},
   "outputs": [],
   "source": [
    "testing_amount_elec = 15971 #kWh per testing"
   ]
  },
  {
   "cell_type": "code",
   "execution_count": 63,
   "id": "cfd5e231-419c-46d5-a1dd-c894c7cc2ca3",
   "metadata": {},
   "outputs": [],
   "source": [
    "def create_motor_testing_activity(motor_db):\n",
    "    create_new_activity(\n",
    "        act_name = \"motor testing\",\n",
    "        unit = \"unit\",\n",
    "        location = \"SE\",\n",
    "        exchanges = [\n",
    "            (act_elec_mv, testing_amount_elec)\n",
    "        ],\n",
    "        database = motor_db\n",
    "    )"
   ]
  },
  {
   "cell_type": "markdown",
   "id": "77be9b1c-70c1-4f44-9d8f-d327a9fc0e2c",
   "metadata": {},
   "source": [
    "### Whole motor production"
   ]
  },
  {
   "cell_type": "markdown",
   "id": "ffd3192a-034e-4635-bbba-f24f8ca38ce7",
   "metadata": {},
   "source": [
    "During the assembly phase, the rotor and stator are put together. Bearings are mounted on the shaft and a protective housing made of welded steel is added. Finally, the cooling system, made of welded steel, is added to the motor. The motor is then painted and tested."
   ]
  },
  {
   "cell_type": "markdown",
   "id": "0b657174-36bc-400b-a608-d0aba9d27726",
   "metadata": {},
   "source": [
    "**As the detailed composition of the motor is confidential, the detailed activity for motor production is not provided in this document. A simplified version is provided below as an example.**"
   ]
  },
  {
   "cell_type": "markdown",
   "id": "0a976ac9-b136-4081-bba2-dfff8377fb5b",
   "metadata": {},
   "source": [
    "In Jerome et al. (2023), the motor composition is provided as follow:\n",
    "\n",
    "| Material            | Induction motor (ton) |\n",
    "|---------------------|----------------------------|\n",
    "| Steel, unalloyed    | 12.3                       |\n",
    "| Steel, low-alloyed  | 4.1                        |\n",
    "| Electrical steel    | 14.3                       |\n",
    "| Copper, unalloyed   | 2.7                        |\n",
    "| Copper, alloyed     | 0.9                        |\n",
    "| Insulation (mica tape) | 0.4                        |"
   ]
  },
  {
   "cell_type": "markdown",
   "id": "387f75fa-c3ce-4522-a178-559e3b6a67fc",
   "metadata": {},
   "source": [
    "The simplified motor manufacturing activity does not include scraps and material production for scraped materials, and includes only the motor testing and stator impregnation as energy use during manufacturing. This is to avoid includin any confidential data."
   ]
  },
  {
   "cell_type": "code",
   "execution_count": 64,
   "id": "8e6cedbd-9b91-459d-a7fc-72a441653cfe",
   "metadata": {},
   "outputs": [],
   "source": [
    "amount_motor_steel = 12300 #kg\n",
    "amount_motor_steel_low_alloyed = 4100 #kg\n",
    "amount_motor_elec_steel = 14300 #kg\n",
    "amount_motor_copper = 2700 #kg\n",
    "amount_motor_brass = 900 #kg\n",
    "amount_motor_insulation = 400 #kg\n",
    "motor_weight = amount_motor_steel + amount_motor_steel_low_alloyed + amount_motor_elec_steel + amount_motor_copper + amount_motor_brass + amount_motor_insulation"
   ]
  },
  {
   "cell_type": "code",
   "execution_count": 65,
   "id": "f224dc7b-51c2-40d0-87f3-6ff6d3aa97ac",
   "metadata": {},
   "outputs": [],
   "source": [
    "def create_motor_production_activity(motor_db, motor_name):\n",
    "    #Activities in input\n",
    "    act_elec_steel = motor_db.search(\"electrical steel sheet production\")[0]\n",
    "    act_mica_tape = motor_db.search(\"mica tape\")[0]\n",
    "    act_impregnation = motor_db.search(\"vacuum pressure impregnation of the stator\")[0]\n",
    "    act_motor_testing = motor_db.search(\"motor testing\")[0]\n",
    "    #List of inputs\n",
    "    list_exchanges = [\n",
    "        (act_steel_unalloyed, amount_motor_steel),\n",
    "        (act_steel_low_alloyed, amount_motor_steel_low_alloyed),\n",
    "        (act_elec_steel, amount_motor_elec_steel),\n",
    "        (act_copper, amount_motor_copper),\n",
    "        (act_brass_market, amount_motor_brass),\n",
    "        (act_mica_tape, amount_motor_insulation),\n",
    "        (act_impregnation, 1),\n",
    "        (act_motor_testing, 1)\n",
    "    ]\n",
    "    #Activity creation\n",
    "    create_new_activity(\n",
    "        act_name = motor_name + \" motor production\",\n",
    "        unit = \"unit\",\n",
    "        location = \"SE\",\n",
    "        exchanges = list_exchanges,\n",
    "        database = motor_db,\n",
    "        name_product = motor_name + \" motor\"\n",
    "    )"
   ]
  },
  {
   "cell_type": "markdown",
   "id": "546fa82a-ead5-4121-92bc-2e92e5a49925",
   "metadata": {},
   "source": [
    "## Motor use"
   ]
  },
  {
   "cell_type": "markdown",
   "id": "5b6a34a5-4e7a-42fd-be04-c424536adf3a",
   "metadata": {},
   "source": [
    "Energy consumption in the use phase consists of useful energy to be delivered by the motor, and of energy losses reflected by the energy efficiency value of the motor. As the purpose of the study in Jerome et al. (2023) is to compare motors delivering the same output and the production system fed by those motors is outside the scope, only the electricity due to energy losses is included. The energy efficiency can be estimated to remain constant during operation according to the manufacturer. Proper maintenance is assumed, involving the regular replacement of some small components such as filters, bolts and bearings. As the weight of those exchanged components is not significant in the bill of materials, additional component production related to maintenance is excluded. Transportation from the manufacturer and to the recycling facility is not included. It was identified as representing a negligible share of the environmental impact of HV motors (Westberg, 2021) and, in addition, the comparison of the motors does not include variations in geographical location for use."
   ]
  },
  {
   "cell_type": "code",
   "execution_count": 66,
   "id": "d0c66a64-0abc-442d-978c-4b6aa62eada0",
   "metadata": {},
   "outputs": [],
   "source": [
    "def create_motor_use_activity(motor_db, motor, lifetime, operating_hours):\n",
    "    amount_losses = motor[\"output\"] * operating_hours * lifetime * (1 / motor[\"efficiency\"] - 1)\n",
    "    create_new_activity(\n",
    "        act_name = motor[\"name\"] + \" motor use\",\n",
    "        unit = \"unit\",\n",
    "        location = \"SE\",\n",
    "        exchanges = [\n",
    "            (act_elec_mv, amount_losses)\n",
    "        ],\n",
    "        database = motor_db,\n",
    "        name_product = motor[\"name\"] + \" motor, used\"\n",
    "    )"
   ]
  },
  {
   "cell_type": "code",
   "execution_count": 67,
   "id": "a621ce45-a298-4977-9064-30b784e60f0a",
   "metadata": {},
   "outputs": [],
   "source": [
    "def create_motor_use_per_year_activity(motor_db, motor, operating_hours):\n",
    "    amount_losses = motor[\"output\"] * operating_hours * (1 / motor[\"efficiency\"] - 1)\n",
    "    create_new_activity(\n",
    "        act_name = motor[\"name\"] + \" motor use for one year\",\n",
    "        unit = \"unit\",\n",
    "        location = \"SE\",\n",
    "        exchanges = [\n",
    "            (act_elec_mv, amount_losses)\n",
    "        ],\n",
    "        database = motor_db,\n",
    "        name_product = motor[\"name\"] + \" motor, used for one year\"\n",
    "    )"
   ]
  },
  {
   "cell_type": "markdown",
   "id": "15e96884-5cbb-463c-b6ff-b5620489a7ec",
   "metadata": {},
   "source": [
    "## End-of-life treatment of the motors"
   ]
  },
  {
   "cell_type": "markdown",
   "id": "d1681532-77ec-4b8c-a306-5c1b564ef3cb",
   "metadata": {},
   "source": [
    "HV motors are sent to recycling after use. The recycling process is similar to LV electric motors. This process is described in Tillman et al. (2020) and discussion with experts from the recycling company handling electric motors was used to point to differences between LV and HV motors.\n",
    "\n",
    "For HV motors, motors are dismantled with heavy equipment to heat and cut the motors in order to avoid damages in hammer mills used for shredding. The components are then shredded, and the resulting pieces are sorted. The sorting starts with air separation, in order to separate the heavy fraction from the light fraction. The light fraction is processed to separate fluff, made of insulation, plastics, etc., to powdered metals such as copper. The light fraction is then sent to incineration. The heavy fraction mostly consists of different metals. Magnetic separation is performed to collect steel-rich fragments, which are sent to steel recycling. \n",
    "For LV motors, the remaining fraction consists mainly of “meatballs”, pieces of entangled copper, insulation and electrical steel. However, due to the size of HV motors being far superior to the size of the pieces after shredding and due to copper being a softer metal than steel, the generation of meatballs during the shredding is unlikely to happen for HV motors. After magnetic separation, it is assumed that all the steel is collected for recycling and that the remaining fraction is copper-rich fragments that are sent to copper recycling."
   ]
  },
  {
   "cell_type": "markdown",
   "id": "0055a9a0-ac58-4430-a279-5932755a89b6",
   "metadata": {},
   "source": [
    "### Shredding and sorting"
   ]
  },
  {
   "cell_type": "markdown",
   "id": "5421bd95-cf41-49d0-89d4-4b52317bd65d",
   "metadata": {},
   "source": [
    "Electricity and heat are required during dismantling, shredding and sorting. Tillman et al. (2020) reports that the treatment of 1 kg of LV traction motors by shredding and sorting requires between 36 and 41Wh of electricity and between 0.015 and 0.019MJ of heat depending on the motor. Energy use for dismantling is unknown and depends on the extent of the dismantling. The highest values from Tillman et al. (2020) are used to minimise underestimation of the energy use for the motor treatment process."
   ]
  },
  {
   "cell_type": "code",
   "execution_count": 68,
   "id": "fcfe2a18-eebf-4f9f-a361-a444a04665af",
   "metadata": {},
   "outputs": [],
   "source": [
    "shredding_amount_heat = 0.019 #MJ\n",
    "shredding_amount_elec = 0.041 #kWh"
   ]
  },
  {
   "cell_type": "code",
   "execution_count": 69,
   "id": "82045efe-9a78-40db-bee9-e5a7a7979ec6",
   "metadata": {},
   "outputs": [],
   "source": [
    "def create_shredding_activity(motor_db):\n",
    "    create_new_activity(\n",
    "        act_name = \"shredding and sorting processes for electric motors\",\n",
    "        unit = \"kilogram\",\n",
    "        location = \"SE\",\n",
    "        exchanges = [\n",
    "            (act_heat, shredding_amount_heat),\n",
    "            (act_elec_mv, shredding_amount_elec)\n",
    "        ],\n",
    "        database = motor_db,\n",
    "        name_product = \"motor, shredded and sorted\"\n",
    "    )"
   ]
  },
  {
   "cell_type": "markdown",
   "id": "0b5f2c48-24e6-4e6b-b629-8364f6390f67",
   "metadata": {},
   "source": [
    "### Motor EoL treatment activity"
   ]
  },
  {
   "cell_type": "markdown",
   "id": "ab13c7f6-9482-4623-a3d5-9050a8cc0f05",
   "metadata": {},
   "source": [
    "This activity combines the shredding and sorting of the motor, the treatment of metal scraps and incineration of plastics."
   ]
  },
  {
   "cell_type": "markdown",
   "id": "5a5aad1b-d889-434c-acfe-117b0de1d0ae",
   "metadata": {},
   "source": [
    "The sorting rates for the different materials are based on the material flow analysis of LV traction motor treatment from Tillman et al. (2020). The rates are adapted to the material content of HV motors (no permanent magnet nor aluminium) and to the differences in treatment between LV and HV motors (no meatballs after shredding of HV motors)."
   ]
  },
  {
   "cell_type": "code",
   "execution_count": 73,
   "id": "904f37c2-915e-4c45-8c60-ebf352c578c0",
   "metadata": {},
   "outputs": [],
   "source": [
    "sorting_rate_steel = 1\n",
    "sorting_rate_copper = 0.9588\n",
    "sorting_rate_plastic = 0"
   ]
  },
  {
   "cell_type": "code",
   "execution_count": 74,
   "id": "9cb981e4-4cea-4311-b33b-b02b4fcf0d9b",
   "metadata": {},
   "outputs": [],
   "source": [
    "plastic_to_copper = 0.8069\n",
    "plastic_to_steel = 0.0369\n",
    "plastic_to_incineration = 1 - plastic_to_copper - plastic_to_steel"
   ]
  },
  {
   "cell_type": "code",
   "execution_count": 75,
   "id": "cba4fa3c-e87f-4b5f-bc0a-3b5315473b41",
   "metadata": {},
   "outputs": [],
   "source": [
    "copper_to_steel = 0.0117\n",
    "copper_to_incineration = 1 - sorting_rate_copper - copper_to_steel"
   ]
  },
  {
   "cell_type": "code",
   "execution_count": 86,
   "id": "8ce2df07-d53b-4da3-b3a5-c9b721c7ddd0",
   "metadata": {},
   "outputs": [],
   "source": [
    "def create_motor_eol_treatment_activity(motor_db, motor):\n",
    "    #Useful amounts in motor\n",
    "    amount_steel = amount_motor_steel + amount_motor_steel_low_alloyed + amount_motor_elec_steel\n",
    "    amount_copper = amount_motor_copper + amount_motor_brass\n",
    "    #Amounts to be treated\n",
    "    copper_treatment = amount_copper * sorting_rate_copper + amount_motor_insulation * plastic_to_copper\n",
    "    steel_treatment = amount_steel * sorting_rate_steel + amount_copper * copper_to_steel + amount_motor_insulation * plastic_to_steel\n",
    "    #Useful activities\n",
    "    act_motor_shredding = motor_db.search(\"shredding and sorting processes for electric motors\")[0]\n",
    "    #Activity\n",
    "    create_new_activity(\n",
    "        act_name = motor[\"name\"] + \" motor end-of-life treatment\",\n",
    "        unit = \"unit\",\n",
    "        location = \"SE\",\n",
    "        exchanges = [\n",
    "            (act_motor_shredding, motor_weight),\n",
    "            (act_incineration_copper, - amount_copper * copper_to_incineration),\n",
    "            (act_treatment_copper, - copper_treatment),\n",
    "            (act_treatment_steel, - steel_treatment),\n",
    "            (act_incineration_plastic, - amount_motor_insulation * plastic_to_incineration)\n",
    "        ],\n",
    "        database = motor_db,\n",
    "        name_product = motor[\"name\"] + \" motor, treated\"\n",
    "    )"
   ]
  },
  {
   "cell_type": "markdown",
   "id": "23e2a963-b62d-4606-a9c5-41ddf2923fa0",
   "metadata": {},
   "source": [
    "## Repair"
   ]
  },
  {
   "cell_type": "markdown",
   "id": "d9b34a81-d462-4bde-b5fd-5b00cdf5062b",
   "metadata": {},
   "source": [
    "Stator rewinding is performed by pulling out and recycling the old copper windings, and by producing new windings that are inserted into the existing stator core. The windings are made of copper and insulation."
   ]
  },
  {
   "cell_type": "markdown",
   "id": "152f750b-724f-4c06-ba88-85b888453111",
   "metadata": {},
   "source": [
    "**As the composition of the windings is confidential, the detailed activity for repair by rewinding is not provided in this document. A mock activity is provided below.**"
   ]
  },
  {
   "cell_type": "markdown",
   "id": "2f48202d-a6d6-43cf-9f4c-8ef20ecee8b7",
   "metadata": {},
   "source": [
    "To avoid giving information on the motor composition, a mock activity for rewinding is given assuming that all the copper and all insulation in the motor are replaced."
   ]
  },
  {
   "cell_type": "code",
   "execution_count": 77,
   "id": "db5d2077-cea4-4a5c-b3b1-4cd631ee921e",
   "metadata": {},
   "outputs": [],
   "source": [
    "def create_motor_rewinding_activity(motor_db, motor):\n",
    "    #Amounts from the data table\n",
    "    amount_copper = amount_motor_copper\n",
    "    amount_insulation = amount_motor_insulation\n",
    "    #Amounts to be treated\n",
    "    copper_treatment = amount_copper * sorting_rate_copper + amount_insulation * plastic_to_copper\n",
    "    #Activities in input\n",
    "    act_mica_tape = motor_db.search(\"mica tape\")[0]\n",
    "    #Activity creation\n",
    "    create_new_activity(\n",
    "        act_name= motor[\"name\"] + \" rewinding\",\n",
    "        unit= \"unit\",\n",
    "        location = \"SE\",\n",
    "        exchanges=[\n",
    "            (act_copper, amount_copper), #new windings\n",
    "            (act_mica_tape, amount_insulation), #insulation in the new windings\n",
    "            (act_treatment_copper, - copper_treatment), #treatment of copper from old windings\n",
    "            (act_incineration_plastic, - amount_insulation * plastic_to_incineration) # treatment of insulation from old windings\n",
    "        ],\n",
    "        database= motor_db\n",
    "    )"
   ]
  },
  {
   "cell_type": "markdown",
   "id": "8df48d9a-2adc-42b3-94ac-1d0002054246",
   "metadata": {},
   "source": [
    "## Database creation"
   ]
  },
  {
   "cell_type": "markdown",
   "id": "12b805d5-cc67-4556-8685-9b6b6f9808b1",
   "metadata": {},
   "source": [
    "### List of motors to be included"
   ]
  },
  {
   "cell_type": "markdown",
   "id": "865b3f17-3c0e-478c-b598-ef670988fd66",
   "metadata": {},
   "source": [
    "The study focuses on the induction motor presented in Jerome et al. (2023). The characteristics of the motor are presented below."
   ]
  },
  {
   "cell_type": "code",
   "execution_count": 78,
   "id": "7a9f38a6-5055-477b-b752-bce8d2c6f283",
   "metadata": {},
   "outputs": [],
   "source": [
    "induction_motor = {\n",
    "    \"name\": \"IM\",\n",
    "    \"type\": \"induction\",\n",
    "    \"efficiency\": 0.973,\n",
    "    \"output\": 15900 #kW\n",
    "}"
   ]
  },
  {
   "cell_type": "markdown",
   "id": "e783006a-da66-463c-a417-c5e2c9e3f6e7",
   "metadata": {},
   "source": [
    "### Parameters"
   ]
  },
  {
   "cell_type": "markdown",
   "id": "31e9a7bc-7734-4329-aa6e-672f9a36dd88",
   "metadata": {},
   "source": [
    "Except for two weeks of annual maintenance, the motors are assumed to run at full load 24h a day."
   ]
  },
  {
   "cell_type": "code",
   "execution_count": 79,
   "id": "05dcf5bd-2cba-4846-8646-b96938911dc0",
   "metadata": {},
   "outputs": [],
   "source": [
    "operating_hours = 50 * 7 * 24 #hours"
   ]
  },
  {
   "cell_type": "markdown",
   "id": "7920895b-542e-4626-ba57-c735e231f396",
   "metadata": {},
   "source": [
    "Such big and stationary electric motors are typically used for at least 20 years."
   ]
  },
  {
   "cell_type": "code",
   "execution_count": 80,
   "id": "f3550d4a-e562-48b7-a927-9464d642952e",
   "metadata": {},
   "outputs": [],
   "source": [
    "lifetime = 20 #years"
   ]
  },
  {
   "cell_type": "markdown",
   "id": "e57ef859-963c-47b1-a8a0-e6d5e172564f",
   "metadata": {},
   "source": [
    "### Creation of the database with all motors"
   ]
  },
  {
   "cell_type": "code",
   "execution_count": 85,
   "id": "86d2ab7b-5c68-48b2-8728-bc3dcdec19b9",
   "metadata": {},
   "outputs": [],
   "source": [
    "def create_motor_db(name_motor_db, list_motors, lifetime, operating_hours):\n",
    "    reset_brightway_database(name_motor_db)\n",
    "    motor_db = bd.Database(name_motor_db)\n",
    "    motor_db.register()\n",
    "    #Activities common to all motors\n",
    "    create_silicon_seel_production_activity(motor_db)\n",
    "    create_electrical_seel_production_activity(motor_db)\n",
    "    create_mica_tape_production_activity(motor_db)\n",
    "    create_shaft_machining_activity(motor_db)\n",
    "    create_pole_tips_machining_activity(motor_db)\n",
    "    create_punching_rotor_lamination_activity(motor_db)\n",
    "    create_punching_stator_lamination_activity(motor_db)\n",
    "    create_stator_impregnation_activity(motor_db)\n",
    "    create_motor_testing_activity(motor_db)\n",
    "    create_shredding_activity(motor_db)\n",
    "    # Activities specific to different motors\n",
    "    for motor in list_motors:\n",
    "        create_motor_production_activity(motor_db, motor[\"name\"])\n",
    "        create_motor_use_activity(motor_db, motor, lifetime, operating_hours)\n",
    "        create_motor_use_per_year_activity(motor_db, motor, operating_hours)\n",
    "        create_motor_eol_treatment_activity(motor_db, motor)\n",
    "        create_motor_rewinding_activity(motor_db, motor)"
   ]
  },
  {
   "cell_type": "code",
   "execution_count": 87,
   "id": "dd7d699f-678a-4f3e-ad33-6dd41c0ad011",
   "metadata": {},
   "outputs": [],
   "source": [
    "name_motor_db=\"motor_production_simplified\"\n",
    "list_motors = [\n",
    "    induction_motor\n",
    "]\n",
    "create_motor_db(name_motor_db, list_motors, lifetime, operating_hours)"
   ]
  },
  {
   "cell_type": "code",
   "execution_count": 88,
   "id": "7f359f5e-0dfe-4bfd-a88e-787432e379e8",
   "metadata": {},
   "outputs": [],
   "source": [
    "motor_db = bd.Database(name_motor_db)"
   ]
  },
  {
   "cell_type": "code",
   "execution_count": null,
   "id": "5c60fdd1-4a73-4586-8243-5e6936e758b0",
   "metadata": {},
   "outputs": [],
   "source": []
  }
 ],
 "metadata": {
  "kernelspec": {
   "display_name": "Python 3 (ipykernel)",
   "language": "python",
   "name": "python3"
  },
  "language_info": {
   "codemirror_mode": {
    "name": "ipython",
    "version": 3
   },
   "file_extension": ".py",
   "mimetype": "text/x-python",
   "name": "python",
   "nbconvert_exporter": "python",
   "pygments_lexer": "ipython3",
   "version": "3.11.7"
  }
 },
 "nbformat": 4,
 "nbformat_minor": 5
}
