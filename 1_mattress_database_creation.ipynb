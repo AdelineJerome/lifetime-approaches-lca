{
 "cells": [
  {
   "cell_type": "markdown",
   "id": "d5d9ecf2-cd38-45f9-b3f9-d378ddb688dc",
   "metadata": {},
   "source": [
    "# Introduction"
   ]
  },
  {
   "cell_type": "markdown",
   "id": "024050a8-cb6a-408d-b1b7-0ed9dc321674",
   "metadata": {},
   "source": [
    "This notebook create the brightway project and databases necessary for the analysis of the mattress remanufacturing case. "
   ]
  },
  {
   "cell_type": "markdown",
   "id": "9239f0ef-df4f-4573-84ca-32fc7c1e1e58",
   "metadata": {},
   "source": [
    "**References**\n",
    "\n",
    "Glew et al. (2012). Glew, D., Stringer, L.C., Acquaye, A.A., McQueen-Mason, S. How do end of life scenarios influence the environmental impact of product supply chains? comparing biomaterial and petrochemical products. Journal of Cleaner Production 29–30, 122–131. [DOI](https://doi.org/10.1016/j.jclepro.2012.02.005)\n",
    "\n",
    "Lanoë et al. (2013). Lanoë, T., Simões, C.L., Simoes, R. Improving the environmental performance of bedding products by using life cycle assessment at the design stage. Journal of Cleaner Production 52, 155–164. [DOI](https://doi.org/10.1016/j.jclepro.2013.03.013)"
   ]
  },
  {
   "cell_type": "markdown",
   "id": "edffda4a-0cd5-49a9-a55f-1fac6548c015",
   "metadata": {},
   "source": [
    "# Library import"
   ]
  },
  {
   "cell_type": "code",
   "execution_count": 1,
   "id": "614097ec-6cf3-4fdf-9f34-d38c6dccf92b",
   "metadata": {},
   "outputs": [],
   "source": [
    "#brightway\n",
    "import bw2data as bd\n",
    "import bw2io as bi\n",
    "import bw2calc as bc\n",
    "import bw2analyzer as bwa\n",
    "\n",
    "#others\n",
    "import pandas as pd\n",
    "\n",
    "#own functions\n",
    "from utilities_bw2 import *"
   ]
  },
  {
   "cell_type": "markdown",
   "id": "681e473c-fac5-4af9-b6ab-645f7b6d7628",
   "metadata": {},
   "source": [
    "# Project setup and database import"
   ]
  },
  {
   "cell_type": "markdown",
   "id": "4ee1a371-81bd-415c-851d-3fac19bc3beb",
   "metadata": {},
   "source": [
    "## Project setup"
   ]
  },
  {
   "cell_type": "code",
   "execution_count": 2,
   "id": "fcd333bb-09c1-4fa9-b6ee-5faabbdf256a",
   "metadata": {},
   "outputs": [
    {
     "data": {
      "text/plain": [
       "Brightway2 projects manager with 16 objects:\n",
       "\tABB case\n",
       "\tElectric motors\n",
       "\tMotor case\n",
       "\tNew motor case\n",
       "\tWT01\n",
       "\tab_demo\n",
       "\tab_demo_solution\n",
       "\tadvlca24\n",
       "\tbrightway2_test\n",
       "\tbrightway_demo\n",
       "\tdefault\n",
       "\tlca_algebraic_handbook\n",
       "\tlifetime_test\n",
       "\tmotor_case\n",
       "\tpLCA course\n",
       "\ttest_240410\n",
       "Use `projects.report()` to get a report on all projects."
      ]
     },
     "execution_count": 2,
     "metadata": {},
     "output_type": "execute_result"
    }
   ],
   "source": [
    "bd.projects"
   ]
  },
  {
   "cell_type": "code",
   "execution_count": 3,
   "id": "9ac0d942-994d-43e9-a5a9-f03324b5a93e",
   "metadata": {},
   "outputs": [],
   "source": [
    "bd.projects.set_current(\"lifetime_test\")"
   ]
  },
  {
   "cell_type": "code",
   "execution_count": 4,
   "id": "5bcf25cf-fa7a-449a-bab7-b18634b74210",
   "metadata": {},
   "outputs": [
    {
     "data": {
      "text/plain": [
       "Databases dictionary with 7 object(s):\n",
       "\tbiosphere3\n",
       "\tecoinvent_391_cutoff\n",
       "\teol_treatment\n",
       "\tfurniture_production\n",
       "\tmotor_production\n",
       "\tpackaging\n",
       "\tprimary_production"
      ]
     },
     "execution_count": 4,
     "metadata": {},
     "output_type": "execute_result"
    }
   ],
   "source": [
    "bd.databases"
   ]
  },
  {
   "cell_type": "markdown",
   "id": "e30aa12e-8523-47b4-96a9-cc01dd774b5d",
   "metadata": {},
   "source": [
    "## Import of biosphere database"
   ]
  },
  {
   "cell_type": "code",
   "execution_count": 5,
   "id": "8aa207db-b49c-48e4-af23-34681eb280e0",
   "metadata": {},
   "outputs": [
    {
     "name": "stdout",
     "output_type": "stream",
     "text": [
      "Biosphere database already present!!! No setup is needed\n"
     ]
    }
   ],
   "source": [
    "bi.bw2setup()"
   ]
  },
  {
   "cell_type": "code",
   "execution_count": 6,
   "id": "cee13b3f-da46-47a8-9ec2-8836f77bd098",
   "metadata": {},
   "outputs": [],
   "source": [
    "biosphere_db = bd.Database(\"biosphere3\")"
   ]
  },
  {
   "cell_type": "markdown",
   "id": "ae756dfb-060e-4257-98e9-1ea9209f8d35",
   "metadata": {},
   "source": [
    "## Import ecoinvent"
   ]
  },
  {
   "cell_type": "markdown",
   "id": "26733ce2-d998-410d-9eb7-1c28650874bf",
   "metadata": {},
   "source": [
    "This project uses ecoinvent 3.9.1 cutoff."
   ]
  },
  {
   "cell_type": "code",
   "execution_count": 7,
   "id": "c71e683b-50cd-4ecb-b577-d0dd8bd173b3",
   "metadata": {},
   "outputs": [],
   "source": [
    "path_datasets = \"C:/Users/user_name/Downloads/ecoinvent_3.9.1_cutoff_ecoSpold02/datasets\""
   ]
  },
  {
   "cell_type": "code",
   "execution_count": 8,
   "id": "c2e8be01-7d87-43f9-8362-95f120a46faf",
   "metadata": {},
   "outputs": [],
   "source": [
    "ei_db_name = \"ecoinvent_391_cutoff\""
   ]
  },
  {
   "cell_type": "code",
   "execution_count": 9,
   "id": "e2f5b092-0828-4348-8be4-09ca975c8899",
   "metadata": {},
   "outputs": [
    {
     "name": "stdout",
     "output_type": "stream",
     "text": [
      "Database has already been imported.\n"
     ]
    }
   ],
   "source": [
    "if ei_db_name in bd.databases:\n",
    "    print(\"Database has already been imported.\")\n",
    "else:\n",
    "    ei_importer = bi.SingleOutputEcospold2Importer(path_datasets, ei_db_name)\n",
    "    ei_importer.apply_strategies()\n",
    "    ei_importer.statistics() \n",
    "    ei_importer.write_database()"
   ]
  },
  {
   "cell_type": "code",
   "execution_count": 10,
   "id": "d4575ac9-989a-45a9-a0af-c9ce6a92a510",
   "metadata": {},
   "outputs": [],
   "source": [
    "ei_db = bd.Database(ei_db_name)"
   ]
  },
  {
   "cell_type": "markdown",
   "id": "aba44dc4-19e5-40f0-ad3a-e6c876e50a6c",
   "metadata": {},
   "source": [
    "# LCI"
   ]
  },
  {
   "cell_type": "markdown",
   "id": "99f0ec2b-b899-4171-bedb-386854516653",
   "metadata": {},
   "source": [
    "## Selection of relevant ecoinvent processes"
   ]
  },
  {
   "cell_type": "markdown",
   "id": "f87811e1-45a6-4849-ae7e-8cc66acbe12a",
   "metadata": {},
   "source": [
    "Markets for material production in Europe (RER). If European markets are not available, global (GLO) markets are used instead."
   ]
  },
  {
   "cell_type": "code",
   "execution_count": 11,
   "id": "3eb77994-4a7b-490d-bdfd-5cfc8b9a4945",
   "metadata": {},
   "outputs": [],
   "source": [
    "act_pur_foam = ei_db.search(\"market for polyurethane, flexible foam RER\")[0]"
   ]
  },
  {
   "cell_type": "code",
   "execution_count": 12,
   "id": "9eda6155-5fce-44f4-a5e5-28924f51f5de",
   "metadata": {},
   "outputs": [],
   "source": [
    "act_polyester_resin = ei_db.search(\"market for polyester resin, unsaturated RER\")[0]"
   ]
  },
  {
   "cell_type": "code",
   "execution_count": 13,
   "id": "8df5e9ee-1331-4e4b-ad5c-0a719e6fd10e",
   "metadata": {},
   "outputs": [],
   "source": [
    "act_cotton = ei_db.search(\"market for textile, woven cotton GLO\")[0]"
   ]
  },
  {
   "cell_type": "code",
   "execution_count": 14,
   "id": "66731815-9de5-41c5-bcdd-6a5b6059b24a",
   "metadata": {},
   "outputs": [],
   "source": [
    "act_polyester_maleic = ei_db.search(\"market for maleic unsaturated polyester resin GLO\")[0]"
   ]
  },
  {
   "cell_type": "code",
   "execution_count": 15,
   "id": "3de32b8d-0d65-4cf0-9d02-d06343df4188",
   "metadata": {},
   "outputs": [],
   "source": [
    "act_steel_low_alloyed = ei_db.search(\"market for steel, low-alloyed GLO\")[0]"
   ]
  },
  {
   "cell_type": "code",
   "execution_count": 16,
   "id": "68954e98-68dd-42c5-ac7c-3361b5d42aa9",
   "metadata": {},
   "outputs": [],
   "source": [
    "act_pp = ei_db.search(\"market for polypropylene, granulate GLO\")[0]"
   ]
  },
  {
   "cell_type": "code",
   "execution_count": 17,
   "id": "145b96c3-ff31-43f9-909e-c1d9c0a5e4ed",
   "metadata": {},
   "outputs": [],
   "source": [
    "act_eva = ei_db.search(\"market for ethylene vinyl acetate copolymer RER\")[0]"
   ]
  },
  {
   "cell_type": "code",
   "execution_count": 18,
   "id": "5e338cbe-5803-4ef3-871a-8fefae982f29",
   "metadata": {},
   "outputs": [],
   "source": [
    "act_abs = ei_db.search(\"market for acrylonitrile-butadiene-styrene copolymer GLO\")[0]"
   ]
  },
  {
   "cell_type": "code",
   "execution_count": 19,
   "id": "cc118f32-abc2-49ab-a62e-d351eda94ad7",
   "metadata": {},
   "outputs": [],
   "source": [
    "act_elec_rer_mv = ei_db.search(\"market group for electricity, medium voltage RER\")[0]"
   ]
  },
  {
   "cell_type": "markdown",
   "id": "90c8293b-08ec-4983-b4a0-7baed5f0fd99",
   "metadata": {},
   "source": [
    "Markets for end-of-life treatments. Again, European markets are preferred."
   ]
  },
  {
   "cell_type": "code",
   "execution_count": 20,
   "id": "f8bebf66-27d0-4dc2-ba55-f3a94b3b0523",
   "metadata": {},
   "outputs": [],
   "source": [
    "act_eol_pur = ei_db.search(\"market for waste polyurethane foam RoW\")[0]"
   ]
  },
  {
   "cell_type": "code",
   "execution_count": 21,
   "id": "a35c99c0-7629-4acf-87f6-0f8148418804",
   "metadata": {},
   "outputs": [],
   "source": [
    "act_eol_plastic = ei_db.search(\"market for waste plastic, mixture Europe without Switzerland\")[0]"
   ]
  },
  {
   "cell_type": "code",
   "execution_count": 22,
   "id": "ee7f3b3e-97d3-457f-b91c-feaa1103eb0b",
   "metadata": {},
   "outputs": [],
   "source": [
    "act_eol_textile = ei_db.search(\"market for waste textile, soiled RoW\")[0]"
   ]
  },
  {
   "cell_type": "code",
   "execution_count": 23,
   "id": "720ba7e0-a555-4c16-a937-ffd1e0ca2423",
   "metadata": {},
   "outputs": [],
   "source": [
    "act_eol_steel = ei_db.search(\"market for scrap steel Europe without Switzerland\")[0]"
   ]
  },
  {
   "cell_type": "code",
   "execution_count": 24,
   "id": "61dba166-3f4b-45ae-8b7a-c6d4631e9149",
   "metadata": {},
   "outputs": [],
   "source": [
    "act_eol_pp = ei_db.search(\"market for waste polyethylene/polypropylene product Europe without Switzerland\")[0]"
   ]
  },
  {
   "cell_type": "markdown",
   "id": "9d4d9828-db23-4786-a86b-cf107c78c306",
   "metadata": {},
   "source": [
    "## Mattress manufacturing"
   ]
  },
  {
   "cell_type": "markdown",
   "id": "6e8bb759-ee59-42db-9647-743ff0a09a15",
   "metadata": {},
   "source": [
    "### Bill of materials"
   ]
  },
  {
   "cell_type": "markdown",
   "id": "98917c95-8acd-4d12-8bf9-be010bce81b3",
   "metadata": {},
   "source": [
    "The article from Lanoë et al. (2013) reports a life cycle inventory for a one-person spring bed mattress, dimension 1 x 2 m. The inventory was then used by ecoinvent to create a dataset (mattress production, pocket spring) by adjusting the sources for background production. Here, the quantities from ecoinvent are used.\n",
    "\n",
    "| Material | Quantity  article | Quantity ecoinvent | Dataset ecoinvent |\n",
    "| ---- | ---- | ---- | ---- |\n",
    "| PUR foam | 4.371 kg | 4.37 kg | market for polyurethane, flexible foam |\n",
    "| Polyester fibre | 0.3194 kg | 0.319 kg | market for polyester resin, unsaturated |\n",
    "| Mesh fabric | 0.631 kg | 0.631 kg | market for textile, woven cotton |\n",
    "| Polyester fabric | 0.615 kg | 0.621 kg | market for maleic unsaturated polyester resin |\n",
    "| Polyester unsaturated | 6 g | (see above) | (included in above) |\n",
    "| Wire (steel) | 12 kg | 12 kg | market for steel, low-alloyed |\n",
    "| Non-woven fabric (polyester) | 0.1674 kg | 0.167 kg | market for polypropylene, granulate |\n",
    "| EVA (Ethylene Vinyl Acetate) | 2 kg | 2 kg | market for ethylene vinyl acetate copolymer |\n",
    "| ABS | 12 g | 0.012 kg | market for acrylonitrile-butadiene-styrene copolymer |\n",
    "| Eyelet | 6 g | - | - |\n",
    "\n",
    "Whether wastes during production are included is unclear from the article."
   ]
  },
  {
   "cell_type": "code",
   "execution_count": 25,
   "id": "9365e095-c15e-4da3-bd97-f5a0d3e583f1",
   "metadata": {},
   "outputs": [],
   "source": [
    "mattress_spring_amount_pur = 4.37 #kg\n",
    "mattress_spring_amount_polyester = 0.319 #kg\n",
    "mattress_spring_amount_cotton = 0.631 #kg\n",
    "mattress_spring_amount_polyester_unsaturated = 0.621 #kg\n",
    "mattress_spring_amount_wire = 12 #kg\n",
    "mattress_spring_amount_pp = 0.167 #kg\n",
    "mattress_spring_amount_eva = 2 #kg\n",
    "mattress_spring_amount_abs = 0.012 #kg"
   ]
  },
  {
   "cell_type": "markdown",
   "id": "9b273f5b-dff8-4da1-b677-c2de98e8756d",
   "metadata": {},
   "source": [
    "### Manufacturing"
   ]
  },
  {
   "cell_type": "markdown",
   "id": "24c7b119-b13f-4930-a75b-64caa478443f",
   "metadata": {},
   "source": [
    "In Lanoë et al. (2013), the energy use is distinguished for all steps in the production:\n",
    "\n",
    "| Step | Electricity use |\n",
    "| ---- | ---- |\n",
    "| Quilting machine | 1.25 kWh |\n",
    "| Pocket spring machine | 13.33 kWh |\n",
    "| Hotmelt glue gun | 0.57 kWh |\n",
    "| Borders machine | 1.84 kWh |\n",
    "| Handle machine | 0.03 kWh |\n",
    "| Top edge machine | 0.33 kWh |\n",
    "| Packaging | 0.17 kWh |"
   ]
  },
  {
   "cell_type": "code",
   "execution_count": 26,
   "id": "801dd0e0-3873-4ca1-a932-369b878f79a2",
   "metadata": {},
   "outputs": [],
   "source": [
    "mattress_spring_amount_elec_lanoe = 1.25 + 13.33 + 0.57 + 1.84 + 0.03 + 0.33 + 0.17 #kWh"
   ]
  },
  {
   "cell_type": "code",
   "execution_count": 27,
   "id": "9db8e741-ec65-4cc1-9db2-ac0227447463",
   "metadata": {},
   "outputs": [],
   "source": [
    "def create_mattress_spring_production_activity(mattress_db):\n",
    "    #Activity creation\n",
    "    create_new_activity(\n",
    "        act_name= \"spring mattress production\",\n",
    "        unit= \"unit\",\n",
    "        location= \"RER\",\n",
    "        exchanges=[\n",
    "            (act_pur_foam, mattress_spring_amount_pur),\n",
    "            (act_polyester_resin, mattress_spring_amount_polyester),\n",
    "            (act_cotton, mattress_spring_amount_cotton),\n",
    "            (act_polyester_maleic, mattress_spring_amount_polyester_unsaturated),\n",
    "            (act_steel_low_alloyed, mattress_spring_amount_wire),\n",
    "            (act_pp, mattress_spring_amount_pp),\n",
    "            (act_eva, mattress_spring_amount_eva),\n",
    "            (act_abs, mattress_spring_amount_abs),\n",
    "            (act_elec_rer_mv, mattress_spring_amount_elec_lanoe)\n",
    "        ],\n",
    "        database= mattress_db,\n",
    "        name_product= \"spring mattress\"\n",
    "    )"
   ]
  },
  {
   "cell_type": "markdown",
   "id": "967a9a9a-55b1-4e30-9e69-e9d5f8578293",
   "metadata": {},
   "source": [
    "## Mattress EoL treatment"
   ]
  },
  {
   "cell_type": "markdown",
   "id": "19aad66f-6f93-4c3b-8015-8820629d8e3e",
   "metadata": {},
   "source": [
    "In Lanoë et al. (2013), the mattresses are assumed to be landfilled, except the steel springs that are recycled. \n",
    "\n",
    "In ecoinvent, the end-of-life treatement is assumed with average treatment (market data) for each material, with a mix of landfill and incineration (without energy recovery)."
   ]
  },
  {
   "cell_type": "code",
   "execution_count": 28,
   "id": "562c7e6d-4994-4ed7-af72-25c287a9e3fe",
   "metadata": {},
   "outputs": [],
   "source": [
    "def create_mattress_spring_eol_treatment_activity(mattress_db):\n",
    "    #Activity creation\n",
    "    create_new_activity(\n",
    "        act_name= \"spring mattress end-of-life treatment\",\n",
    "        unit= \"unit\",\n",
    "        location= \"RER\",\n",
    "        exchanges=[\n",
    "            (act_eol_pur, - mattress_spring_amount_pur),\n",
    "            (act_eol_plastic, - (mattress_spring_amount_polyester + mattress_spring_amount_polyester_unsaturated + mattress_spring_amount_eva + mattress_spring_amount_abs)),\n",
    "            (act_eol_textile, - mattress_spring_amount_cotton),\n",
    "            (act_eol_steel, - mattress_spring_amount_wire),\n",
    "            (act_eol_pp, - mattress_spring_amount_pp)\n",
    "        ],\n",
    "        database= mattress_db,\n",
    "        name_product= \"spring mattress, treated\"\n",
    "    )"
   ]
  },
  {
   "cell_type": "markdown",
   "id": "1924d8f7-804a-4d94-8269-e38200be70c0",
   "metadata": {},
   "source": [
    "## Mattress refurbishment - reuse of springs"
   ]
  },
  {
   "cell_type": "markdown",
   "id": "32a8896b-ad87-4b33-b35a-083048435431",
   "metadata": {},
   "source": [
    "In Glew et al. (2012), it is estimated based on the opinion of a mattress manufacturer that the refurbishment of a mattress including the reuse of springs requires $1/3$ hours than the production of a new one. It can be estimated that $1/3$ of the energy is required for the refurbishment.\n",
    "\n",
    "The activities below are developed to include the treatment of other materials and production of all other materials than the steel springs."
   ]
  },
  {
   "cell_type": "code",
   "execution_count": 29,
   "id": "cc42778e-02c7-4e3f-ade7-2565a4b97378",
   "metadata": {},
   "outputs": [],
   "source": [
    "def create_mattress_spring_refurbish_new_materials_activity(mattress_db):\n",
    "    #Activity creation\n",
    "    create_new_activity(\n",
    "        act_name= \"material production for the refurbishment of a spring mattress\",\n",
    "        unit= \"unit\",\n",
    "        location= \"RER\",\n",
    "        exchanges=[\n",
    "            (act_pur_foam, mattress_spring_amount_pur),\n",
    "            (act_polyester_resin, mattress_spring_amount_polyester),\n",
    "            (act_cotton, mattress_spring_amount_cotton),\n",
    "            (act_polyester_maleic, mattress_spring_amount_polyester_unsaturated),\n",
    "            (act_pp, mattress_spring_amount_pp),\n",
    "            (act_eva, mattress_spring_amount_eva),\n",
    "            (act_abs, mattress_spring_amount_abs)\n",
    "        ],\n",
    "        database= mattress_db,\n",
    "        name_product= \"new materials for spring mattress refurbishment\"\n",
    "    )"
   ]
  },
  {
   "cell_type": "code",
   "execution_count": 30,
   "id": "b047c2d8-9e67-4119-a3e6-65c59c88a216",
   "metadata": {},
   "outputs": [],
   "source": [
    "def create_mattress_spring_refurbish_treatment_activity(mattress_db):\n",
    "    #Activity creation\n",
    "    create_new_activity(\n",
    "        act_name= \"treatment of wasted materials from spring mattress refurbishment\",\n",
    "        unit= \"unit\",\n",
    "        location= \"RER\",\n",
    "        exchanges=[\n",
    "            (act_eol_pur, - mattress_spring_amount_pur),\n",
    "            (act_eol_plastic, - (mattress_spring_amount_polyester + mattress_spring_amount_polyester_unsaturated + mattress_spring_amount_eva + mattress_spring_amount_abs)),\n",
    "            (act_eol_textile, - mattress_spring_amount_cotton),\n",
    "            (act_eol_pp, - mattress_spring_amount_pp)\n",
    "        ],\n",
    "        database= mattress_db\n",
    "    )"
   ]
  },
  {
   "cell_type": "code",
   "execution_count": 31,
   "id": "4953e9b5-1195-4434-9d5e-423a3b6ed4fa",
   "metadata": {},
   "outputs": [],
   "source": [
    "def create_mattress_spring_refurbishment_activity(furniture_db):\n",
    "    #Select relevant activities\n",
    "    act_new_materials = furniture_db.search(\"material production for the refurbishment of a spring mattress\")[0]\n",
    "    act_eol_materials = furniture_db.search(\"treatment of wasted materials from spring mattress refurbishment\")[0]\n",
    "    #Activity creation\n",
    "    create_new_activity(\n",
    "        act_name= \"spring mattress refurbishment\",\n",
    "        unit= \"unit\",\n",
    "        location= \"RER\",\n",
    "        exchanges=[\n",
    "            (act_new_materials, 1),\n",
    "            (act_eol_materials, 1),\n",
    "            (act_elec_rer_mv, mattress_spring_amount_elec_lanoe * 4 / 3)\n",
    "        ],\n",
    "        database= furniture_db,\n",
    "        name_product= \"spring mattress, refurbished\"\n",
    "    )"
   ]
  },
  {
   "cell_type": "markdown",
   "id": "6993b182-2f2c-46b8-9adf-da55118975c2",
   "metadata": {},
   "source": [
    "## Database creation"
   ]
  },
  {
   "cell_type": "code",
   "execution_count": 32,
   "id": "11342144-a5f1-49fb-aa79-fd771a430762",
   "metadata": {},
   "outputs": [],
   "source": [
    "def create_mattress_db(name_mattress_db):\n",
    "    reset_brightway_database(name_mattress_db)\n",
    "    mattress_db = bd.Database(name_mattress_db)\n",
    "    mattress_db.register()\n",
    "    # Spring mattress\n",
    "    create_mattress_spring_production_activity(mattress_db)\n",
    "    create_mattress_spring_eol_treatment_activity(mattress_db)\n",
    "    create_mattress_spring_refurbish_new_materials_activity(mattress_db)\n",
    "    create_mattress_spring_refurbish_treatment_activity(mattress_db)\n",
    "    create_mattress_spring_refurbishment_activity(mattress_db)"
   ]
  },
  {
   "cell_type": "code",
   "execution_count": 33,
   "id": "73e92b91-7c71-49fa-a530-84f849613e08",
   "metadata": {},
   "outputs": [],
   "source": [
    "name_mattress_db = \"mattress_production\""
   ]
  },
  {
   "cell_type": "code",
   "execution_count": 34,
   "id": "76fe513c-8877-4261-b228-7754b2e6252b",
   "metadata": {},
   "outputs": [],
   "source": [
    "create_mattress_db(name_mattress_db)"
   ]
  },
  {
   "cell_type": "code",
   "execution_count": null,
   "id": "8c31e413-7c62-4b01-9114-1e2e7724c2f5",
   "metadata": {},
   "outputs": [],
   "source": []
  }
 ],
 "metadata": {
  "kernelspec": {
   "display_name": "Python 3 (ipykernel)",
   "language": "python",
   "name": "python3"
  },
  "language_info": {
   "codemirror_mode": {
    "name": "ipython",
    "version": 3
   },
   "file_extension": ".py",
   "mimetype": "text/x-python",
   "name": "python",
   "nbconvert_exporter": "python",
   "pygments_lexer": "ipython3",
   "version": "3.11.7"
  }
 },
 "nbformat": 4,
 "nbformat_minor": 5
}
